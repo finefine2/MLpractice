{
 "cells": [
  {
   "cell_type": "markdown",
   "id": "d60269fa",
   "metadata": {},
   "source": [
    "### 교통사고 유형별 사고건수, 사망자수, 중상자수 비율을 요약한 데이터 활용 아래 문제 풀기 \n",
    "\n",
    "1. 사고유형 \"차대차\"인 사고유형별 사망비율을 막대 그래프로 시각화. 사망비율은 사망자수 / 사고건수로 계산하며, matplotlib폰트는 아래 폰트를 이용하여 맑은 고딕으로 설정\n",
    "\n",
    "2. 사고유형대분류별로 사망자수가 가장 많은 사고 유형 출력. 그 결과는 ['횡단중','측면충돌','공작물충돌']이어야 함 \n",
    "\n",
    "3. 사고유형별 중상비율을 계산하고 중상비율이 50%를 넘는 데이터만 중상비율.csv 로 저장"
   ]
  },
  {
   "cell_type": "code",
   "execution_count": 1,
   "id": "ea79bb80",
   "metadata": {},
   "outputs": [],
   "source": [
    "import matplotlib.pyplot as plt \n",
    "plt.rcParams['font.family'] = 'Malgun Gothic'"
   ]
  },
  {
   "cell_type": "code",
   "execution_count": 6,
   "id": "7d40caa0",
   "metadata": {},
   "outputs": [
    {
     "data": {
      "text/html": [
       "<div>\n",
       "<style scoped>\n",
       "    .dataframe tbody tr th:only-of-type {\n",
       "        vertical-align: middle;\n",
       "    }\n",
       "\n",
       "    .dataframe tbody tr th {\n",
       "        vertical-align: top;\n",
       "    }\n",
       "\n",
       "    .dataframe thead th {\n",
       "        text-align: right;\n",
       "    }\n",
       "</style>\n",
       "<table border=\"1\" class=\"dataframe\">\n",
       "  <thead>\n",
       "    <tr style=\"text-align: right;\">\n",
       "      <th></th>\n",
       "      <th>사고유형대분류</th>\n",
       "      <th>사고유형중분류</th>\n",
       "      <th>사고유형</th>\n",
       "      <th>사고건수</th>\n",
       "      <th>사망자수</th>\n",
       "      <th>중상자수</th>\n",
       "      <th>경상자수</th>\n",
       "      <th>부상신고자수</th>\n",
       "    </tr>\n",
       "  </thead>\n",
       "  <tbody>\n",
       "    <tr>\n",
       "      <th>0</th>\n",
       "      <td>차대사람</td>\n",
       "      <td>횡단중</td>\n",
       "      <td>횡단중</td>\n",
       "      <td>12767</td>\n",
       "      <td>445</td>\n",
       "      <td>5999</td>\n",
       "      <td>6664</td>\n",
       "      <td>458</td>\n",
       "    </tr>\n",
       "    <tr>\n",
       "      <th>1</th>\n",
       "      <td>차대사람</td>\n",
       "      <td>차도통행중</td>\n",
       "      <td>차도통행중</td>\n",
       "      <td>3628</td>\n",
       "      <td>146</td>\n",
       "      <td>1438</td>\n",
       "      <td>2007</td>\n",
       "      <td>183</td>\n",
       "    </tr>\n",
       "    <tr>\n",
       "      <th>2</th>\n",
       "      <td>차대사람</td>\n",
       "      <td>길가장자리구역통행중</td>\n",
       "      <td>길가장자리구역통행중</td>\n",
       "      <td>1973</td>\n",
       "      <td>33</td>\n",
       "      <td>563</td>\n",
       "      <td>1330</td>\n",
       "      <td>121</td>\n",
       "    </tr>\n",
       "    <tr>\n",
       "      <th>3</th>\n",
       "      <td>차대사람</td>\n",
       "      <td>보도통행중</td>\n",
       "      <td>보도통행중</td>\n",
       "      <td>2226</td>\n",
       "      <td>21</td>\n",
       "      <td>745</td>\n",
       "      <td>1455</td>\n",
       "      <td>131</td>\n",
       "    </tr>\n",
       "    <tr>\n",
       "      <th>4</th>\n",
       "      <td>차대사람</td>\n",
       "      <td>기타</td>\n",
       "      <td>기타</td>\n",
       "      <td>14675</td>\n",
       "      <td>333</td>\n",
       "      <td>4887</td>\n",
       "      <td>9139</td>\n",
       "      <td>1062</td>\n",
       "    </tr>\n",
       "  </tbody>\n",
       "</table>\n",
       "</div>"
      ],
      "text/plain": [
       "  사고유형대분류     사고유형중분류        사고유형   사고건수  사망자수  중상자수  경상자수  부상신고자수\n",
       "0    차대사람         횡단중         횡단중  12767   445  5999  6664     458\n",
       "1    차대사람       차도통행중       차도통행중   3628   146  1438  2007     183\n",
       "2    차대사람  길가장자리구역통행중  길가장자리구역통행중   1973    33   563  1330     121\n",
       "3    차대사람       보도통행중       보도통행중   2226    21   745  1455     131\n",
       "4    차대사람          기타          기타  14675   333  4887  9139    1062"
      ]
     },
     "execution_count": 6,
     "metadata": {},
     "output_type": "execute_result"
    }
   ],
   "source": [
    "# 1. data load and visualize \n",
    "import pandas as pd \n",
    "df = pd.read_excel(\"accident_stat.xlsx\")\n",
    "df.head()"
   ]
  },
  {
   "cell_type": "code",
   "execution_count": 7,
   "id": "52e4f5ea",
   "metadata": {},
   "outputs": [
    {
     "name": "stderr",
     "output_type": "stream",
     "text": [
      "C:\\Users\\Public\\Documents\\ESTsoft\\CreatorTemp\\ipykernel_16916\\414642333.py:2: SettingWithCopyWarning: \n",
      "A value is trying to be set on a copy of a slice from a DataFrame.\n",
      "Try using .loc[row_indexer,col_indexer] = value instead\n",
      "\n",
      "See the caveats in the documentation: https://pandas.pydata.org/pandas-docs/stable/user_guide/indexing.html#returning-a-view-versus-a-copy\n",
      "  f_df['사망비율'] = f_df['사망자수'] / f_df['사고건수']\n"
     ]
    },
    {
     "data": {
      "image/png": "[encoded data removed]",
      "text/plain": [
       "<Figure size 640x480 with 1 Axes>"
      ]
     },
     "metadata": {},
     "output_type": "display_data"
    }
   ],
   "source": [
    "f_df = df.loc[df['사고유형대분류'] == '차대차']\n",
    "f_df['사망비율'] = f_df['사망자수'] / f_df['사고건수']\n",
    "plt.bar(range(len(f_df)),f_df['사망비율'])\n",
    "plt.xticks(range(len(f_df)),f_df['사고유형'])\n",
    "plt.show()"
   ]
  },
  {
   "cell_type": "code",
   "execution_count": 8,
   "id": "08a778d4",
   "metadata": {},
   "outputs": [
    {
     "data": {
      "text/plain": [
       "['횡단중', '측면충돌', '공작물충돌']"
      ]
     },
     "execution_count": 8,
     "metadata": {},
     "output_type": "execute_result"
    }
   ],
   "source": [
    "# 2 groupby를 이용 사망자수의 최댓값을 갖는 사고 유형 찾기 \n",
    "df.loc[df.groupby('사고유형대분류')['사망자수'].idxmax(),'사고유형'].tolist()"
   ]
  },
  {
   "cell_type": "code",
   "execution_count": null,
   "id": "08f729ba",
   "metadata": {},
   "outputs": [],
   "source": [
    "# 3 중상 비율을 계산하고 필터링하고 csv파일로 저장\n",
    "df['중상비율'] = df['중상자수'] / df['사고건수']\n",
    "df.loc[df['중상비율'] > 0.5].to_csv(\"중상비율.csv\",index=False,encoding=\"cp949\")"
   ]
  }
 ],
 "metadata": {
  "kernelspec": {
   "display_name": "Python 3",
   "language": "python",
   "name": "python3"
  },
  "language_info": {
   "codemirror_mode": {
    "name": "ipython",
    "version": 3
   },
   "file_extension": ".py",
   "mimetype": "text/x-python",
   "name": "python",
   "nbconvert_exporter": "python",
   "pygments_lexer": "ipython3",
   "version": "3.10.16"
  }
 },
 "nbformat": 4,
 "nbformat_minor": 5
}
