{
 "cells": [
  {
   "cell_type": "markdown",
   "id": "62409e3a",
   "metadata": {},
   "source": [
    "펭귄의 데이터를 통해 다중 선형회귀 분석, 라쏘회귀, 릿지 회귀 분석을 통한 몸무게를 예측해보려고 한다.\n",
    "\n",
    "#### 1. 데이터 구성 및 전처리\n",
    "- species: 펭귄 종\n",
    "- island: 서식지\n",
    "- culmen_length_mm: 부리 길이\n",
    "- culmen_depth_mm: 부리 깊이\n",
    "- flipper_length_mm: 날개 길이\n",
    "- sex: 성별"
   ]
  },
  {
   "cell_type": "markdown",
   "id": "df931e09",
   "metadata": {},
   "source": [
    "#### [EDA 및 전처리]\n"
   ]
  },
  {
   "cell_type": "code",
   "execution_count": null,
   "id": "2775dd9f",
   "metadata": {},
   "outputs": [],
   "source": []
  },
  {
   "cell_type": "markdown",
   "id": "fa8784d8",
   "metadata": {},
   "source": []
  }
 ],
 "metadata": {
  "kernelspec": {
   "display_name": "Python 3",
   "language": "python",
   "name": "python3"
  },
  "language_info": {
   "name": "python",
   "version": "3.10.16"
  }
 },
 "nbformat": 4,
 "nbformat_minor": 5
}
